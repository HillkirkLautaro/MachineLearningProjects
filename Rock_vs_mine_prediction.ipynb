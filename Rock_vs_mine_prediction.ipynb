{
  "nbformat": 4,
  "nbformat_minor": 0,
  "metadata": {
    "colab": {
      "provenance": [],
      "authorship_tag": "ABX9TyPDW5QXdkZOKv5OO1KtXFuo",
      "include_colab_link": true
    },
    "kernelspec": {
      "name": "python3",
      "display_name": "Python 3"
    },
    "language_info": {
      "name": "python"
    }
  },
  "cells": [
    {
      "cell_type": "markdown",
      "metadata": {
        "id": "view-in-github",
        "colab_type": "text"
      },
      "source": [
        "<a href=\"https://colab.research.google.com/github/HillkirkLautaro/MachineLearningProjects/blob/main/Rock_vs_mine_prediction.ipynb\" target=\"_parent\"><img src=\"https://colab.research.google.com/assets/colab-badge.svg\" alt=\"Open In Colab\"/></a>"
      ]
    },
    {
      "cell_type": "markdown",
      "source": [
        "\n",
        "\n",
        "Importando las dependencias!"
      ],
      "metadata": {
        "id": "b9u8jQ7p1zgH"
      }
    },
    {
      "cell_type": "code",
      "source": [
        "import numpy as np #Numpy se usa para crear numpy arrays\n",
        "import pandas as pd #Panda se usa para importar data y poder visualizar facilmente en data frames\n",
        "from sklearn.model_selection import train_test_split #train test split importado de la libreria sklearn\n",
        "from sklearn.linear_model import LogisticRegression #modelo de regresión logística de la libreria sklearn\n",
        "from sklearn.metrics import accuracy_score #metrica con el puntaje de exactitud de la libreria sklearn\n",
        "print (\"SETUP COMPLETED\") #JAJA!"
      ],
      "metadata": {
        "colab": {
          "base_uri": "https://localhost:8080/"
        },
        "id": "WLnv9oPz16bV",
        "outputId": "ff29393f-02e6-4ae2-f7bf-08324426109f"
      },
      "execution_count": 2,
      "outputs": [
        {
          "output_type": "stream",
          "name": "stdout",
          "text": [
            "SETUP COMPLETED\n"
          ]
        }
      ]
    },
    {
      "cell_type": "markdown",
      "source": [
        "RECOLECCION Y PROCESAMIENTO DE LA DATA!"
      ],
      "metadata": {
        "id": "mtcP6GT24Hbw"
      }
    },
    {
      "cell_type": "code",
      "source": [
        " #Cargamos el excel en un data frame de pandas, ademas aclaramos que no tiene header.\n",
        "sonar_data = pd.read_csv(\"/Copy of sonar data.csv\", header = None)"
      ],
      "metadata": {
        "id": "emzNFNEL4R2m"
      },
      "execution_count": null,
      "outputs": []
    },
    {
      "cell_type": "code",
      "source": [
        "sonar_data.head() #Devuelve las 5 primeras filas del data frame"
      ],
      "metadata": {
        "id": "BhMsOZ-w95mi"
      },
      "execution_count": null,
      "outputs": []
    },
    {
      "cell_type": "code",
      "source": [
        "sonar_data.shape #Devuelve la cantidad de filas y columnas del data frame"
      ],
      "metadata": {
        "colab": {
          "base_uri": "https://localhost:8080/"
        },
        "id": "5PJmLOYm9WOa",
        "outputId": "47fffa79-47cc-41a8-8e71-c17e60aaed4a"
      },
      "execution_count": 22,
      "outputs": [
        {
          "output_type": "execute_result",
          "data": {
            "text/plain": [
              "(208, 61)"
            ]
          },
          "metadata": {},
          "execution_count": 22
        }
      ]
    },
    {
      "cell_type": "code",
      "source": [
        "sonar_data.describe() #Devuelve las medidas estadisticas del data frame."
      ],
      "metadata": {
        "id": "3KedzQCY9Zg_"
      },
      "execution_count": null,
      "outputs": []
    },
    {
      "cell_type": "code",
      "source": [
        "#Separando la data y las labels (R --> Roca M --> Mina)\n",
        "x = sonar_data.drop(columns = 60, axis = 1) #X = Data sin la columna 60 que decia R o M\n",
        "y = sonar_data[60] #Y = Solo la columna 60 que decia R o M"
      ],
      "metadata": {
        "id": "Rfwxd8hv-Jr4"
      },
      "execution_count": null,
      "outputs": []
    },
    {
      "cell_type": "markdown",
      "source": [
        "Entrenando y Probando la Data!"
      ],
      "metadata": {
        "id": "MfjkIWMlB-Hf"
      }
    },
    {
      "cell_type": "code",
      "source": [
        "x_train, x_test, y_train, y_test = train_test_split(x, y, test_size=0.1, stratify = y, random_state=1)"
      ],
      "metadata": {
        "id": "COkZcfBdCCaL"
      },
      "execution_count": 54,
      "outputs": []
    },
    {
      "cell_type": "code",
      "source": [
        "print(x.shape, x_train.shape, x_test.shape)"
      ],
      "metadata": {
        "colab": {
          "base_uri": "https://localhost:8080/"
        },
        "id": "RBdBE6Q6CeCA",
        "outputId": "97769377-161d-4e28-c5c8-1f75fe0c5b3c"
      },
      "execution_count": 39,
      "outputs": [
        {
          "output_type": "stream",
          "name": "stdout",
          "text": [
            "(208, 60) (166, 60) (42, 60)\n"
          ]
        }
      ]
    },
    {
      "cell_type": "markdown",
      "source": [
        "Practica del modelo de regresión logistica!"
      ],
      "metadata": {
        "id": "nz6NyAbfDHek"
      }
    },
    {
      "cell_type": "code",
      "source": [
        "modelo = LogisticRegression()"
      ],
      "metadata": {
        "id": "7N3T5Ur_DNkp"
      },
      "execution_count": 40,
      "outputs": []
    },
    {
      "cell_type": "code",
      "source": [
        "#Entrenando el modelo de regresion logistica.\n",
        "modelo.fit(x_train, y_train)"
      ],
      "metadata": {
        "colab": {
          "base_uri": "https://localhost:8080/",
          "height": 75
        },
        "id": "Aep635UJEEyn",
        "outputId": "f6c8919a-a8b9-44df-e5b2-ba95fd798f58"
      },
      "execution_count": 51,
      "outputs": [
        {
          "output_type": "execute_result",
          "data": {
            "text/plain": [
              "LogisticRegression()"
            ],
            "text/html": [
              "<style>#sk-container-id-4 {color: black;background-color: white;}#sk-container-id-4 pre{padding: 0;}#sk-container-id-4 div.sk-toggleable {background-color: white;}#sk-container-id-4 label.sk-toggleable__label {cursor: pointer;display: block;width: 100%;margin-bottom: 0;padding: 0.3em;box-sizing: border-box;text-align: center;}#sk-container-id-4 label.sk-toggleable__label-arrow:before {content: \"▸\";float: left;margin-right: 0.25em;color: #696969;}#sk-container-id-4 label.sk-toggleable__label-arrow:hover:before {color: black;}#sk-container-id-4 div.sk-estimator:hover label.sk-toggleable__label-arrow:before {color: black;}#sk-container-id-4 div.sk-toggleable__content {max-height: 0;max-width: 0;overflow: hidden;text-align: left;background-color: #f0f8ff;}#sk-container-id-4 div.sk-toggleable__content pre {margin: 0.2em;color: black;border-radius: 0.25em;background-color: #f0f8ff;}#sk-container-id-4 input.sk-toggleable__control:checked~div.sk-toggleable__content {max-height: 200px;max-width: 100%;overflow: auto;}#sk-container-id-4 input.sk-toggleable__control:checked~label.sk-toggleable__label-arrow:before {content: \"▾\";}#sk-container-id-4 div.sk-estimator input.sk-toggleable__control:checked~label.sk-toggleable__label {background-color: #d4ebff;}#sk-container-id-4 div.sk-label input.sk-toggleable__control:checked~label.sk-toggleable__label {background-color: #d4ebff;}#sk-container-id-4 input.sk-hidden--visually {border: 0;clip: rect(1px 1px 1px 1px);clip: rect(1px, 1px, 1px, 1px);height: 1px;margin: -1px;overflow: hidden;padding: 0;position: absolute;width: 1px;}#sk-container-id-4 div.sk-estimator {font-family: monospace;background-color: #f0f8ff;border: 1px dotted black;border-radius: 0.25em;box-sizing: border-box;margin-bottom: 0.5em;}#sk-container-id-4 div.sk-estimator:hover {background-color: #d4ebff;}#sk-container-id-4 div.sk-parallel-item::after {content: \"\";width: 100%;border-bottom: 1px solid gray;flex-grow: 1;}#sk-container-id-4 div.sk-label:hover label.sk-toggleable__label {background-color: #d4ebff;}#sk-container-id-4 div.sk-serial::before {content: \"\";position: absolute;border-left: 1px solid gray;box-sizing: border-box;top: 0;bottom: 0;left: 50%;z-index: 0;}#sk-container-id-4 div.sk-serial {display: flex;flex-direction: column;align-items: center;background-color: white;padding-right: 0.2em;padding-left: 0.2em;position: relative;}#sk-container-id-4 div.sk-item {position: relative;z-index: 1;}#sk-container-id-4 div.sk-parallel {display: flex;align-items: stretch;justify-content: center;background-color: white;position: relative;}#sk-container-id-4 div.sk-item::before, #sk-container-id-4 div.sk-parallel-item::before {content: \"\";position: absolute;border-left: 1px solid gray;box-sizing: border-box;top: 0;bottom: 0;left: 50%;z-index: -1;}#sk-container-id-4 div.sk-parallel-item {display: flex;flex-direction: column;z-index: 1;position: relative;background-color: white;}#sk-container-id-4 div.sk-parallel-item:first-child::after {align-self: flex-end;width: 50%;}#sk-container-id-4 div.sk-parallel-item:last-child::after {align-self: flex-start;width: 50%;}#sk-container-id-4 div.sk-parallel-item:only-child::after {width: 0;}#sk-container-id-4 div.sk-dashed-wrapped {border: 1px dashed gray;margin: 0 0.4em 0.5em 0.4em;box-sizing: border-box;padding-bottom: 0.4em;background-color: white;}#sk-container-id-4 div.sk-label label {font-family: monospace;font-weight: bold;display: inline-block;line-height: 1.2em;}#sk-container-id-4 div.sk-label-container {text-align: center;}#sk-container-id-4 div.sk-container {/* jupyter's `normalize.less` sets `[hidden] { display: none; }` but bootstrap.min.css set `[hidden] { display: none !important; }` so we also need the `!important` here to be able to override the default hidden behavior on the sphinx rendered scikit-learn.org. See: https://github.com/scikit-learn/scikit-learn/issues/21755 */display: inline-block !important;position: relative;}#sk-container-id-4 div.sk-text-repr-fallback {display: none;}</style><div id=\"sk-container-id-4\" class=\"sk-top-container\"><div class=\"sk-text-repr-fallback\"><pre>LogisticRegression()</pre><b>In a Jupyter environment, please rerun this cell to show the HTML representation or trust the notebook. <br />On GitHub, the HTML representation is unable to render, please try loading this page with nbviewer.org.</b></div><div class=\"sk-container\" hidden><div class=\"sk-item\"><div class=\"sk-estimator sk-toggleable\"><input class=\"sk-toggleable__control sk-hidden--visually\" id=\"sk-estimator-id-4\" type=\"checkbox\" checked><label for=\"sk-estimator-id-4\" class=\"sk-toggleable__label sk-toggleable__label-arrow\">LogisticRegression</label><div class=\"sk-toggleable__content\"><pre>LogisticRegression()</pre></div></div></div></div></div>"
            ]
          },
          "metadata": {},
          "execution_count": 51
        }
      ]
    },
    {
      "cell_type": "markdown",
      "source": [
        "Evaluacion del modelo."
      ],
      "metadata": {
        "id": "JvDC7KizEv3F"
      }
    },
    {
      "cell_type": "code",
      "source": [
        "#Probando la exactitud de nuestro modelo de practica(Al ser un modelo con poca data y ademas un modelo mas rapido, pero menos eficiente el puntaje no sera muy alto.)\n",
        "x_train_prediction = modelo.predict(x_train)\n",
        "training_data_accuraccy = accuracy_score(x_train_prediction, y_train)"
      ],
      "metadata": {
        "id": "3Odawe8ZEy8W"
      },
      "execution_count": 58,
      "outputs": []
    },
    {
      "cell_type": "code",
      "source": [
        "#puntaje LOLXD\n",
        "print(\"La exactitud del modelo de practica es de : \", (training_data_accuraccy * 100), \"%\")"
      ],
      "metadata": {
        "colab": {
          "base_uri": "https://localhost:8080/"
        },
        "id": "ASRqCCtXGfvq",
        "outputId": "4d6a8368-b7b7-4e95-9a39-18d2d6302a6a"
      },
      "execution_count": 59,
      "outputs": [
        {
          "output_type": "stream",
          "name": "stdout",
          "text": [
            "La exactitud del modelo de practica es de :  82.88770053475936 %\n"
          ]
        }
      ]
    },
    {
      "cell_type": "code",
      "source": [
        "#Probando exactitud del modelo de prueba\n",
        "x_test_prediction = modelo.predict(x_test)\n",
        "test_data_acuraccy = accuracy_score(x_test_prediction, y_test)"
      ],
      "metadata": {
        "id": "oe-8tPkNHTjr"
      },
      "execution_count": 63,
      "outputs": []
    },
    {
      "cell_type": "code",
      "source": [
        "#puntaje LOLXD\n",
        "print(\"La exactitud del modelo de prueba es de :\",(test_data_acuraccy*100), \"%\")"
      ],
      "metadata": {
        "colab": {
          "base_uri": "https://localhost:8080/"
        },
        "id": "6hDE5dy9Hzxd",
        "outputId": "3db83964-5638-4714-9673-dfa780dbef60"
      },
      "execution_count": 64,
      "outputs": [
        {
          "output_type": "stream",
          "name": "stdout",
          "text": [
            "La exactitud del modelo de prueba es de : 66.66666666666666 %\n"
          ]
        }
      ]
    },
    {
      "cell_type": "markdown",
      "source": [
        "Creando un sistema que predice si un objeto es roca o mina!"
      ],
      "metadata": {
        "id": "QR3ECndfKMwO"
      }
    },
    {
      "cell_type": "code",
      "source": [
        "input_data = (0.0187,0.0346,0.0168,0.0177,0.0393,0.1630,0.2028,0.1694,0.2328,0.2684,0.3108,0.2933,0.2275,0.0994,0.1801,0.2200,0.2732,0.2862,0.2034,0.1740,0.4130,0.6879,0.8120,0.8453,0.8919,0.9300,0.9987,1.0000,0.8104,0.6199,0.6041,0.5547,0.4160,0.1472,0.0849,0.0608,0.0969,0.1411,0.1676,0.1200,0.1201,0.1036,0.1977,0.1339,0.0902,0.1085,0.1521,0.1363,0.0858,0.0290,0.0203,0.0116,0.0098,0.0199,0.0033,0.0101,0.0065,0.0115,0.0193,0.0157)\n",
        "#Cambiando input data = lista a input data = numpy array\n",
        "input_data_as_numpy_array = np.asarray(input_data)\n",
        "#Cambiar el array de numpy a una prediccion de una sola instancia\n",
        "input_data_reshaped = input_data_as_numpy_array.reshape(1,-1)\n",
        "prediction = modelo.predict(input_data_reshaped)\n",
        "if (prediction[0] == \"R\"):\n",
        "  print(\"El objeto es una roca\")\n",
        "else:\n",
        "  print(\"El objeto es una mina\")"
      ],
      "metadata": {
        "colab": {
          "base_uri": "https://localhost:8080/"
        },
        "id": "14R5PJYLKRm_",
        "outputId": "e5f3d2df-d7ab-4470-f3a7-bb732188799d"
      },
      "execution_count": 71,
      "outputs": [
        {
          "output_type": "stream",
          "name": "stdout",
          "text": [
            "El objeto es una mina\n"
          ]
        }
      ]
    }
  ]
}